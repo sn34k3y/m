{
 "cells": [
  {
   "cell_type": "code",
   "execution_count": 2,
   "id": "69b1872e",
   "metadata": {},
   "outputs": [],
   "source": [
    "import pandas as pd\n",
    "import numpy as np\n",
    "from sklearn.model_selection import train_test_split\n",
    "from sklearn.ensemble import AdaBoostClassifier"
   ]
  },
  {
   "cell_type": "code",
   "execution_count": 3,
   "id": "d2f82cb8",
   "metadata": {},
   "outputs": [
    {
     "name": "stdout",
     "output_type": "stream",
     "text": [
      "(150, 6)\n"
     ]
    }
   ],
   "source": [
    "data = pd.read_csv(\"Iris.csv\")\n",
    "print(data.shape)"
   ]
  },
  {
   "cell_type": "code",
   "execution_count": 4,
   "id": "973b8b95",
   "metadata": {},
   "outputs": [
    {
     "data": {
      "text/html": [
       "<div>\n",
       "<style scoped>\n",
       "    .dataframe tbody tr th:only-of-type {\n",
       "        vertical-align: middle;\n",
       "    }\n",
       "\n",
       "    .dataframe tbody tr th {\n",
       "        vertical-align: top;\n",
       "    }\n",
       "\n",
       "    .dataframe thead th {\n",
       "        text-align: right;\n",
       "    }\n",
       "</style>\n",
       "<table border=\"1\" class=\"dataframe\">\n",
       "  <thead>\n",
       "    <tr style=\"text-align: right;\">\n",
       "      <th></th>\n",
       "      <th>Id</th>\n",
       "      <th>SepalLengthCm</th>\n",
       "      <th>SepalWidthCm</th>\n",
       "      <th>PetalLengthCm</th>\n",
       "      <th>PetalWidthCm</th>\n",
       "      <th>Species</th>\n",
       "    </tr>\n",
       "  </thead>\n",
       "  <tbody>\n",
       "    <tr>\n",
       "      <th>0</th>\n",
       "      <td>1</td>\n",
       "      <td>5.1</td>\n",
       "      <td>3.5</td>\n",
       "      <td>1.4</td>\n",
       "      <td>0.2</td>\n",
       "      <td>Iris-setosa</td>\n",
       "    </tr>\n",
       "    <tr>\n",
       "      <th>1</th>\n",
       "      <td>2</td>\n",
       "      <td>4.9</td>\n",
       "      <td>3.0</td>\n",
       "      <td>1.4</td>\n",
       "      <td>0.2</td>\n",
       "      <td>Iris-setosa</td>\n",
       "    </tr>\n",
       "    <tr>\n",
       "      <th>2</th>\n",
       "      <td>3</td>\n",
       "      <td>4.7</td>\n",
       "      <td>3.2</td>\n",
       "      <td>1.3</td>\n",
       "      <td>0.2</td>\n",
       "      <td>Iris-setosa</td>\n",
       "    </tr>\n",
       "    <tr>\n",
       "      <th>3</th>\n",
       "      <td>4</td>\n",
       "      <td>4.6</td>\n",
       "      <td>3.1</td>\n",
       "      <td>1.5</td>\n",
       "      <td>0.2</td>\n",
       "      <td>Iris-setosa</td>\n",
       "    </tr>\n",
       "    <tr>\n",
       "      <th>4</th>\n",
       "      <td>5</td>\n",
       "      <td>5.0</td>\n",
       "      <td>3.6</td>\n",
       "      <td>1.4</td>\n",
       "      <td>0.2</td>\n",
       "      <td>Iris-setosa</td>\n",
       "    </tr>\n",
       "  </tbody>\n",
       "</table>\n",
       "</div>"
      ],
      "text/plain": [
       "   Id  SepalLengthCm  SepalWidthCm  PetalLengthCm  PetalWidthCm      Species\n",
       "0   1            5.1           3.5            1.4           0.2  Iris-setosa\n",
       "1   2            4.9           3.0            1.4           0.2  Iris-setosa\n",
       "2   3            4.7           3.2            1.3           0.2  Iris-setosa\n",
       "3   4            4.6           3.1            1.5           0.2  Iris-setosa\n",
       "4   5            5.0           3.6            1.4           0.2  Iris-setosa"
      ]
     },
     "execution_count": 4,
     "metadata": {},
     "output_type": "execute_result"
    }
   ],
   "source": [
    "data.head()"
   ]
  },
  {
   "cell_type": "code",
   "execution_count": 5,
   "id": "e579f4cf",
   "metadata": {},
   "outputs": [
    {
     "name": "stdout",
     "output_type": "stream",
     "text": [
      "Shape of X is (150, 4) and shape of y is (150,)\n"
     ]
    }
   ],
   "source": [
    "data = data.drop('Id',axis=1)\n",
    "X = data.iloc[:,:-1]\n",
    "y = data.iloc[:,-1]\n",
    "print(\"Shape of X is %s and shape of y is %s\"%(X.shape,y.shape))"
   ]
  },
  {
   "cell_type": "code",
   "execution_count": 6,
   "id": "9cda050c",
   "metadata": {},
   "outputs": [
    {
     "name": "stdout",
     "output_type": "stream",
     "text": [
      "Number of unique species in dataset are:  3\n"
     ]
    }
   ],
   "source": [
    "total_classes = y.nunique()\n",
    "print(\"Number of unique species in dataset are: \",total_classes)"
   ]
  },
  {
   "cell_type": "code",
   "execution_count": 7,
   "id": "d4b10e76",
   "metadata": {},
   "outputs": [
    {
     "name": "stdout",
     "output_type": "stream",
     "text": [
      "Iris-setosa        50\n",
      "Iris-versicolor    50\n",
      "Iris-virginica     50\n",
      "Name: Species, dtype: int64\n"
     ]
    }
   ],
   "source": [
    "distribution = y.value_counts()\n",
    "print(distribution)"
   ]
  },
  {
   "cell_type": "code",
   "execution_count": 8,
   "id": "fd48f48d",
   "metadata": {},
   "outputs": [],
   "source": [
    "X_train, X_val, Y_train, Y_val = train_test_split( X, y, test_size=0.25, random_state=42)"
   ]
  },
  {
   "cell_type": "code",
   "execution_count": 9,
   "id": "1911b47d",
   "metadata": {},
   "outputs": [
    {
     "name": "stderr",
     "output_type": "stream",
     "text": [
      "C:\\Users\\mrwhi\\AppData\\Local\\Programs\\Python\\Python310\\lib\\site-packages\\sklearn\\ensemble\\_weight_boosting.py:527: FutureWarning: The SAMME.R algorithm (the default) is deprecated and will be removed in 1.6. Use the SAMME algorithm to circumvent this warning.\n",
      "  warnings.warn(\n"
     ]
    }
   ],
   "source": [
    "adb = AdaBoostClassifier()\n",
    "adb_model = adb.fit(X_train,Y_train)"
   ]
  },
  {
   "cell_type": "code",
   "execution_count": 10,
   "id": "53d6c3cf",
   "metadata": {},
   "outputs": [
    {
     "name": "stdout",
     "output_type": "stream",
     "text": [
      "The accuracy of the model on validation set is 1.0\n"
     ]
    }
   ],
   "source": [
    "print(\"The accuracy of the model on validation set is\", adb_model.score(X_val,Y_val))"
   ]
  },
  {
   "cell_type": "code",
   "execution_count": 11,
   "id": "b1e2c052",
   "metadata": {},
   "outputs": [],
   "source": [
    "from sklearn.metrics import accuracy_score"
   ]
  },
  {
   "cell_type": "code",
   "execution_count": 12,
   "id": "6e4c3b0b",
   "metadata": {},
   "outputs": [
    {
     "name": "stdout",
     "output_type": "stream",
     "text": [
      "The Accuracy of Prediction on Iris Flower is: 1.0\n"
     ]
    }
   ],
   "source": [
    "y_pred = adb_model.predict(X_val)\n",
    "accuracy = accuracy_score(Y_val, y_pred)\n",
    "print(f\"The Accuracy of Prediction on Iris Flower is: {accuracy}\")"
   ]
  },
  {
   "cell_type": "code",
   "execution_count": 13,
   "id": "a9e6ad02",
   "metadata": {},
   "outputs": [
    {
     "name": "stdout",
     "output_type": "stream",
     "text": [
      "              Actual        Predicted\n",
      "73   Iris-versicolor  Iris-versicolor\n",
      "18       Iris-setosa      Iris-setosa\n",
      "118   Iris-virginica   Iris-virginica\n",
      "78   Iris-versicolor  Iris-versicolor\n",
      "76   Iris-versicolor  Iris-versicolor\n",
      "31       Iris-setosa      Iris-setosa\n",
      "64   Iris-versicolor  Iris-versicolor\n",
      "141   Iris-virginica   Iris-virginica\n",
      "68   Iris-versicolor  Iris-versicolor\n",
      "82   Iris-versicolor  Iris-versicolor\n",
      "110   Iris-virginica   Iris-virginica\n",
      "12       Iris-setosa      Iris-setosa\n",
      "36       Iris-setosa      Iris-setosa\n",
      "9        Iris-setosa      Iris-setosa\n",
      "19       Iris-setosa      Iris-setosa\n",
      "56   Iris-versicolor  Iris-versicolor\n",
      "104   Iris-virginica   Iris-virginica\n",
      "69   Iris-versicolor  Iris-versicolor\n",
      "55   Iris-versicolor  Iris-versicolor\n",
      "132   Iris-virginica   Iris-virginica\n",
      "29       Iris-setosa      Iris-setosa\n",
      "127   Iris-virginica   Iris-virginica\n",
      "26       Iris-setosa      Iris-setosa\n",
      "128   Iris-virginica   Iris-virginica\n",
      "131   Iris-virginica   Iris-virginica\n",
      "145   Iris-virginica   Iris-virginica\n",
      "108   Iris-virginica   Iris-virginica\n",
      "143   Iris-virginica   Iris-virginica\n",
      "45       Iris-setosa      Iris-setosa\n",
      "30       Iris-setosa      Iris-setosa\n",
      "22       Iris-setosa      Iris-setosa\n",
      "15       Iris-setosa      Iris-setosa\n",
      "65   Iris-versicolor  Iris-versicolor\n",
      "11       Iris-setosa      Iris-setosa\n",
      "42       Iris-setosa      Iris-setosa\n",
      "146   Iris-virginica   Iris-virginica\n",
      "51   Iris-versicolor  Iris-versicolor\n",
      "27       Iris-setosa      Iris-setosa\n"
     ]
    }
   ],
   "source": [
    "df = pd.DataFrame({'Actual': Y_val, 'Predicted': y_pred})\n",
    "print(df)"
   ]
  },
  {
   "cell_type": "code",
   "execution_count": null,
   "id": "7eefad9d-3371-497b-836d-3862d4398db7",
   "metadata": {},
   "outputs": [],
   "source": []
  }
 ],
 "metadata": {
  "kernelspec": {
   "display_name": "Python 3 (ipykernel)",
   "language": "python",
   "name": "python3"
  },
  "language_info": {
   "codemirror_mode": {
    "name": "ipython",
    "version": 3
   },
   "file_extension": ".py",
   "mimetype": "text/x-python",
   "name": "python",
   "nbconvert_exporter": "python",
   "pygments_lexer": "ipython3",
   "version": "3.10.5"
  }
 },
 "nbformat": 4,
 "nbformat_minor": 5
}
